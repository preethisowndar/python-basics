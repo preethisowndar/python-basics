{
  "nbformat": 4,
  "nbformat_minor": 0,
  "metadata": {
    "colab": {
      "name": "lamda.ipynb",
      "provenance": [],
      "toc_visible": true,
      "authorship_tag": "ABX9TyO9BTaXq6LESdAoljniAflF",
      "include_colab_link": true
    },
    "kernelspec": {
      "name": "python3",
      "display_name": "Python 3"
    },
    "language_info": {
      "name": "python"
    }
  },
  "cells": [
    {
      "cell_type": "markdown",
      "metadata": {
        "id": "view-in-github",
        "colab_type": "text"
      },
      "source": [
        "<a href=\"https://colab.research.google.com/github/preethisowndar/python-basics/blob/main/lamda.ipynb\" target=\"_parent\"><img src=\"https://colab.research.google.com/assets/colab-badge.svg\" alt=\"Open In Colab\"/></a>"
      ]
    },
    {
      "cell_type": "code",
      "execution_count": 1,
      "metadata": {
        "colab": {
          "base_uri": "https://localhost:8080/"
        },
        "id": "ztwdtM45ntJW",
        "outputId": "28bb6802-4998-421d-a341-f049a1096d1d"
      },
      "outputs": [
        {
          "output_type": "stream",
          "name": "stdout",
          "text": [
            "10\n"
          ]
        }
      ],
      "source": [
        "x=lambda a:a+5\n",
        "print(x(5))"
      ]
    },
    {
      "cell_type": "markdown",
      "source": [
        "lamda has number of arguments but can only have one expression\n"
      ],
      "metadata": {
        "id": "TygTU2_SnwZT"
      }
    },
    {
      "cell_type": "markdown",
      "source": [
        "syntax\n",
        "lambda aruguments: expression\n",
        "the expression is excuted and the result is returned\n"
      ],
      "metadata": {
        "id": "ouzTM-uRoMYy"
      }
    },
    {
      "cell_type": "code",
      "source": [
        "power=lambda a,b:a**b\n",
        "power(2,6)"
      ],
      "metadata": {
        "colab": {
          "base_uri": "https://localhost:8080/"
        },
        "id": "sC3Xaa5tov-B",
        "outputId": "d15bf9df-4016-4901-b86f-857de1bd61a5"
      },
      "execution_count": 2,
      "outputs": [
        {
          "output_type": "execute_result",
          "data": {
            "text/plain": [
              "64"
            ]
          },
          "metadata": {},
          "execution_count": 2
        }
      ]
    },
    {
      "cell_type": "markdown",
      "source": [
        "lambda inside a function"
      ],
      "metadata": {
        "id": "KV8gJ0wMp4Wz"
      }
    },
    {
      "cell_type": "code",
      "source": [
        "def fun1(n):\n",
        "  return lambda a:a*n\n",
        "mydoubler=fun1(2)   #===>mydoubler=lambda a,a*2\n",
        "print(mydoubler(11))\n"
      ],
      "metadata": {
        "colab": {
          "base_uri": "https://localhost:8080/"
        },
        "id": "ntgoOI8To796",
        "outputId": "cf04e321-1a71-4f71-ba13-1f90693adaab"
      },
      "execution_count": 4,
      "outputs": [
        {
          "output_type": "stream",
          "name": "stdout",
          "text": [
            "22\n"
          ]
        }
      ]
    },
    {
      "cell_type": "markdown",
      "source": [
        "fliter() function returns an iterator were the items are filtered through a function to test if the item is accepted or not."
      ],
      "metadata": {
        "id": "a2co96PLrBLs"
      }
    },
    {
      "cell_type": "markdown",
      "source": [
        "filter(function,iterable)"
      ],
      "metadata": {
        "id": "5QFbq9mKr7Yt"
      }
    },
    {
      "cell_type": "code",
      "source": [
        "ages=[5,6,7,8,9,10,11,16,18,20,25,27,32]\n",
        "def adult (x):\n",
        "  if x<18:\n",
        "    return False\n",
        "  else:\n",
        "    return True\n",
        "adults=filter(adult,ages) #======> adult is filter and ages is things to be filtered\n",
        "\n",
        "for x in adults:\n",
        "  print (x)"
      ],
      "metadata": {
        "colab": {
          "base_uri": "https://localhost:8080/"
        },
        "id": "sm5tsPJ-sCVu",
        "outputId": "01fe7d46-1903-4661-8a6c-3e5ad234a64e"
      },
      "execution_count": 8,
      "outputs": [
        {
          "output_type": "stream",
          "name": "stdout",
          "text": [
            "18\n",
            "20\n",
            "25\n",
            "27\n"
          ]
        }
      ]
    },
    {
      "cell_type": "code",
      "source": [
        "para=input(\"write your porse\")\n",
        "words=para.split()\n",
        "def upper(x):\n",
        "  if x.isupper():\n",
        "    return True\n",
        "  else:\n",
        "    return False\n",
        "result=filter(upper,words)\n",
        "for x in result:\n",
        "  print(x)"
      ],
      "metadata": {
        "colab": {
          "base_uri": "https://localhost:8080/"
        },
        "id": "qxrhGofSr6Et",
        "outputId": "f2f5118e-9bee-4b28-e614-747491bbd31f"
      },
      "execution_count": 11,
      "outputs": [
        {
          "output_type": "stream",
          "name": "stdout",
          "text": [
            "write your porseA simple paragraph is comprised of three major components. The first sentence, which is often a declarative sentence, is called the “topic sentence.” It introduces the topic of the paragraph, setting its tone and mood. The next few sentences elaborate, explain, and exemplify the topic introduced in it.\n",
            "A\n"
          ]
        }
      ]
    },
    {
      "cell_type": "markdown",
      "source": [
        "MAP FUNCTION\n",
        " map() function executes a specified function for each itemin an iterable.the item is sent to the function as a parameter.\n",
        " map( funtion,iterable)"
      ],
      "metadata": {
        "id": "5Mo_UkiLzIrr"
      }
    },
    {
      "cell_type": "code",
      "source": [
        "def  fun2(n):\n",
        "  return n.upper()\n",
        "\n",
        "x=map(fun2,(\"cats\",\"dogs\"))\n",
        "print(list(x))"
      ],
      "metadata": {
        "colab": {
          "base_uri": "https://localhost:8080/"
        },
        "id": "vyT7HSoOvBc0",
        "outputId": "6136b1fc-ba95-4b61-c9d8-da5a4d74c99c"
      },
      "execution_count": 14,
      "outputs": [
        {
          "output_type": "stream",
          "name": "stdout",
          "text": [
            "['CATS', 'DOGS']\n"
          ]
        }
      ]
    },
    {
      "cell_type": "code",
      "source": [
        "def vowelcount(n):\n",
        "  vowel=[\"a\",\"e\",\"i\",\"o\",\"u\",\"A\",\"I\",\"E\",\"O\",\"U\"]\n",
        "  for x in vowel:\n",
        "    if n==x:\n",
        "      return n\n",
        "    else:\n",
        "      continue\n",
        "total=map(vowelcount,input(\"write the para\"))\n",
        "z=list(total)\n",
        "totnone=z.count(None)\n",
        "print(len(z)-totnone)"
      ],
      "metadata": {
        "colab": {
          "base_uri": "https://localhost:8080/"
        },
        "id": "JEYFsMXD18kg",
        "outputId": "7d18987f-51bf-4500-b3bf-b35d9008d516"
      },
      "execution_count": 33,
      "outputs": [
        {
          "output_type": "stream",
          "name": "stdout",
          "text": [
            "write the paraA simple paragraph is comprised of three major components. The first sentence, which is often a declarative sentence, is called the “topic sentence.” It introduces the topic of the paragraph, setting its tone and mood. The next few sentences elaborate, explain, and exemplify the topic introduced in it.\n",
            "93\n"
          ]
        }
      ]
    }
  ]
}