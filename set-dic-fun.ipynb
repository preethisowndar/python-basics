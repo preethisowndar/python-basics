{
  "nbformat": 4,
  "nbformat_minor": 0,
  "metadata": {
    "colab": {
      "name": "set.ipynb",
      "provenance": [],
      "authorship_tag": "ABX9TyNK01JcEMFSD4j+xG8kPc9n",
      "include_colab_link": true
    },
    "kernelspec": {
      "name": "python3",
      "display_name": "Python 3"
    },
    "language_info": {
      "name": "python"
    }
  },
  "cells": [
    {
      "cell_type": "markdown",
      "metadata": {
        "id": "view-in-github",
        "colab_type": "text"
      },
      "source": [
        "<a href=\"https://colab.research.google.com/github/preethisowndar/python-basics/blob/main/set-dic-fun.ipynb\" target=\"_parent\"><img src=\"https://colab.research.google.com/assets/colab-badge.svg\" alt=\"Open In Colab\"/></a>"
      ]
    },
    {
      "cell_type": "code",
      "execution_count": null,
      "metadata": {
        "id": "zN4TawLifUvA"
      },
      "outputs": [],
      "source": [
        "a={5,6,7,8,9}"
      ]
    },
    {
      "cell_type": "markdown",
      "source": [
        ""
      ],
      "metadata": {
        "id": "4aOnI3jNg9VH"
      }
    },
    {
      "cell_type": "markdown",
      "source": [
        "set is unordered"
      ],
      "metadata": {
        "id": "3eWPntznffam"
      }
    },
    {
      "cell_type": "markdown",
      "source": [
        "dictionary has key and  value"
      ],
      "metadata": {
        "id": "rEHsuyBdgDOx"
      }
    },
    {
      "cell_type": "code",
      "source": [
        "d1={\"name\":\"prethi\",\"age\":27}\n",
        "d1[\"name\"]=\"preethi sowndar\"\n",
        "print(d1)\n",
        "d1[\"address\"]=\"thirukazhukundram\"\n",
        "print(d1)"
      ],
      "metadata": {
        "colab": {
          "base_uri": "https://localhost:8080/"
        },
        "id": "FENX_AO-f1to",
        "outputId": "c853fbe2-146b-400b-9c57-85e0ea785c96"
      },
      "execution_count": null,
      "outputs": [
        {
          "output_type": "stream",
          "name": "stdout",
          "text": [
            "{'name': 'preethi sowndar', 'age': 27}\n",
            "{'name': 'preethi sowndar', 'age': 27, 'address': 'thirukazhukundram'}\n"
          ]
        }
      ]
    },
    {
      "cell_type": "code",
      "source": [
        "squa={1:1,2:4,3:9,4:16}\n",
        "print(squa.pop(4))\n",
        "print(squa)\n",
        "del squa[3]\n",
        "print(squa)\n",
        "squa.clear()\n",
        "print(squa)"
      ],
      "metadata": {
        "colab": {
          "base_uri": "https://localhost:8080/"
        },
        "id": "ySBMm69gf8AL",
        "outputId": "066421a1-6c61-43b1-a20a-cd0bc4132e28"
      },
      "execution_count": null,
      "outputs": [
        {
          "output_type": "stream",
          "name": "stdout",
          "text": [
            "16\n",
            "{1: 1, 2: 4, 3: 9}\n",
            "{1: 1, 2: 4}\n",
            "{}\n"
          ]
        }
      ]
    },
    {
      "cell_type": "markdown",
      "source": [
        "function are like pet in our house(python is home  and fun is pet)\n",
        "to avoid repitation\n",
        "to lower thr loc\n"
      ],
      "metadata": {
        "id": "b7-3R7qllOzG"
      }
    },
    {
      "cell_type": "code",
      "source": [
        "def hello():\n",
        "  print(\"how r u?\")\n",
        "hello()\n"
      ],
      "metadata": {
        "colab": {
          "base_uri": "https://localhost:8080/"
        },
        "id": "v3cvC8PzlOII",
        "outputId": "72573fc6-12c4-420c-f3c3-14896e40eb53"
      },
      "execution_count": null,
      "outputs": [
        {
          "output_type": "stream",
          "name": "stdout",
          "text": [
            "how r u?\n"
          ]
        }
      ]
    },
    {
      "cell_type": "markdown",
      "source": [
        "function should return something\n"
      ],
      "metadata": {
        "id": "SBLJq3AEmSk2"
      }
    },
    {
      "cell_type": "code",
      "source": [
        "def greet(name):\n",
        "  print(\"hello, \"+name+\" have a great day\")\n",
        "  return \"hello, \"+name+\" have a great day\"\n",
        "greet(\"preethi\")"
      ],
      "metadata": {
        "colab": {
          "base_uri": "https://localhost:8080/",
          "height": 53
        },
        "id": "4x6qIDTamKs_",
        "outputId": "54c2a407-9070-4801-8c43-4e4bdecd8379"
      },
      "execution_count": null,
      "outputs": [
        {
          "output_type": "stream",
          "name": "stdout",
          "text": [
            "hello, preethi have a great day\n"
          ]
        },
        {
          "output_type": "execute_result",
          "data": {
            "text/plain": [
              "'hello, preethi have a great day'"
            ],
            "application/vnd.google.colaboratory.intrinsic+json": {
              "type": "string"
            }
          },
          "metadata": {},
          "execution_count": 15
        }
      ]
    },
    {
      "cell_type": "markdown",
      "source": [
        "here \"name \" is argument or parameter"
      ],
      "metadata": {
        "id": "PV788SVqnAaf"
      }
    },
    {
      "cell_type": "markdown",
      "source": [
        "multiple argument"
      ],
      "metadata": {
        "id": "SUQC8oldqHz3"
      }
    },
    {
      "cell_type": "code",
      "source": [
        "def add(x,y):\n",
        "  return x+y\n",
        "add(5,6)"
      ],
      "metadata": {
        "colab": {
          "base_uri": "https://localhost:8080/"
        },
        "id": "dIxQdJiKp4FY",
        "outputId": "3511e5fc-9be9-4f63-def4-6252f6be35ad"
      },
      "execution_count": null,
      "outputs": [
        {
          "output_type": "execute_result",
          "data": {
            "text/plain": [
              "11"
            ]
          },
          "metadata": {},
          "execution_count": 17
        }
      ]
    },
    {
      "cell_type": "code",
      "source": [
        "def cal(x,y,z):\n",
        "  if z==1:\n",
        "    return x+y\n",
        "  elif z==2:\n",
        "    return x-y\n",
        "  elif z==3:\n",
        "    return x/y\n",
        "  elif z==4:\n",
        "    return x*y\n",
        "x=int(input(\"first integer\"))\n",
        "y=int(input(\"second integer\"))\n",
        "z=int(input(\"\\n1-additiom \\n2-sub \\n3-div \\n4-mul \\nwhich operation to be done? \"))\n",
        "cal(x,y,z)"
      ],
      "metadata": {
        "colab": {
          "base_uri": "https://localhost:8080/"
        },
        "id": "bATHvsUIqzVG",
        "outputId": "6f5527a7-fe40-459c-a0f3-ff96d00da6da"
      },
      "execution_count": null,
      "outputs": [
        {
          "name": "stdout",
          "output_type": "stream",
          "text": [
            "first integer5\n",
            "second integer6\n",
            "\n",
            "1-additiom \n",
            "2-sub \n",
            "3-div \n",
            "4-mul \n",
            "which operation to be done? 1\n"
          ]
        },
        {
          "output_type": "execute_result",
          "data": {
            "text/plain": [
              "11"
            ]
          },
          "metadata": {},
          "execution_count": 21
        }
      ]
    },
    {
      "cell_type": "code",
      "source": [
        "#scope and lifetime variables\n",
        "def fun1():\n",
        "  x=10\n",
        "  return \"value inside the function\",x\n",
        "x=20\n",
        "fun1()\n",
        "print('value outside functon',x)"
      ],
      "metadata": {
        "colab": {
          "base_uri": "https://localhost:8080/"
        },
        "id": "02NKNtCSu9Tu",
        "outputId": "f576f286-cb47-4320-9cac-b4a74c7a4900"
      },
      "execution_count": null,
      "outputs": [
        {
          "output_type": "stream",
          "name": "stdout",
          "text": [
            "value outside functon 20\n"
          ]
        }
      ]
    },
    {
      "cell_type": "code",
      "source": [
        "def fun1():\n",
        "  x=10\n",
        "  return \"value inside the function\",x\n",
        "x=20\n",
        "fun1()\n",
        "#print('value outside functon',x)"
      ],
      "metadata": {
        "colab": {
          "base_uri": "https://localhost:8080/"
        },
        "id": "UGhQrp8CwiB3",
        "outputId": "45b3dd88-bf46-4832-b69f-a8f61587abf1"
      },
      "execution_count": null,
      "outputs": [
        {
          "output_type": "execute_result",
          "data": {
            "text/plain": [
              "('value inside the function', 10)"
            ]
          },
          "metadata": {},
          "execution_count": 34
        }
      ]
    },
    {
      "cell_type": "code",
      "source": [
        "def fun1():\n",
        "  c=10\n",
        "  return \"value inside the function\",c\n",
        "\n",
        "fun1()\n",
        "print('value outside functon',c)"
      ],
      "metadata": {
        "colab": {
          "base_uri": "https://localhost:8080/",
          "height": 200
        },
        "id": "xcnk21dYwqtm",
        "outputId": "0787eeb3-affa-483c-8655-c645154ecabc"
      },
      "execution_count": null,
      "outputs": [
        {
          "output_type": "error",
          "ename": "NameError",
          "evalue": "ignored",
          "traceback": [
            "\u001b[0;31m---------------------------------------------------------------------------\u001b[0m",
            "\u001b[0;31mNameError\u001b[0m                                 Traceback (most recent call last)",
            "\u001b[0;32m<ipython-input-43-7780c5f6c660>\u001b[0m in \u001b[0;36m<module>\u001b[0;34m()\u001b[0m\n\u001b[1;32m      4\u001b[0m \u001b[0;34m\u001b[0m\u001b[0m\n\u001b[1;32m      5\u001b[0m \u001b[0mfun1\u001b[0m\u001b[0;34m(\u001b[0m\u001b[0;34m)\u001b[0m\u001b[0;34m\u001b[0m\u001b[0;34m\u001b[0m\u001b[0m\n\u001b[0;32m----> 6\u001b[0;31m \u001b[0mprint\u001b[0m\u001b[0;34m(\u001b[0m\u001b[0;34m'value outside functon'\u001b[0m\u001b[0;34m,\u001b[0m\u001b[0mc\u001b[0m\u001b[0;34m)\u001b[0m\u001b[0;34m\u001b[0m\u001b[0;34m\u001b[0m\u001b[0m\n\u001b[0m",
            "\u001b[0;31mNameError\u001b[0m: name 'c' is not defined"
          ]
        }
      ]
    },
    {
      "cell_type": "markdown",
      "source": [
        "this will through an error"
      ],
      "metadata": {
        "id": "KHt55o-UyNPK"
      }
    },
    {
      "cell_type": "code",
      "source": [
        "x=\"global\"\n",
        "def foo():\n",
        "  x=x*2\n",
        "  print(x)\n",
        "foo()"
      ],
      "metadata": {
        "colab": {
          "base_uri": "https://localhost:8080/",
          "height": 321
        },
        "id": "5L4CZd-qx6Km",
        "outputId": "8de909f5-37c7-4026-e480-383bc4b94a80"
      },
      "execution_count": null,
      "outputs": [
        {
          "output_type": "error",
          "ename": "UnboundLocalError",
          "evalue": "ignored",
          "traceback": [
            "\u001b[0;31m---------------------------------------------------------------------------\u001b[0m",
            "\u001b[0;31mUnboundLocalError\u001b[0m                         Traceback (most recent call last)",
            "\u001b[0;32m<ipython-input-44-29f14b758ffd>\u001b[0m in \u001b[0;36m<module>\u001b[0;34m()\u001b[0m\n\u001b[1;32m      3\u001b[0m   \u001b[0mx\u001b[0m\u001b[0;34m=\u001b[0m\u001b[0mx\u001b[0m\u001b[0;34m*\u001b[0m\u001b[0;36m2\u001b[0m\u001b[0;34m\u001b[0m\u001b[0;34m\u001b[0m\u001b[0m\n\u001b[1;32m      4\u001b[0m   \u001b[0mprint\u001b[0m\u001b[0;34m(\u001b[0m\u001b[0mx\u001b[0m\u001b[0;34m)\u001b[0m\u001b[0;34m\u001b[0m\u001b[0;34m\u001b[0m\u001b[0m\n\u001b[0;32m----> 5\u001b[0;31m \u001b[0mfoo\u001b[0m\u001b[0;34m(\u001b[0m\u001b[0;34m)\u001b[0m\u001b[0;34m\u001b[0m\u001b[0;34m\u001b[0m\u001b[0m\n\u001b[0m",
            "\u001b[0;32m<ipython-input-44-29f14b758ffd>\u001b[0m in \u001b[0;36mfoo\u001b[0;34m()\u001b[0m\n\u001b[1;32m      1\u001b[0m \u001b[0mx\u001b[0m\u001b[0;34m=\u001b[0m\u001b[0;34m\"global\"\u001b[0m\u001b[0;34m\u001b[0m\u001b[0;34m\u001b[0m\u001b[0m\n\u001b[1;32m      2\u001b[0m \u001b[0;32mdef\u001b[0m \u001b[0mfoo\u001b[0m\u001b[0;34m(\u001b[0m\u001b[0;34m)\u001b[0m\u001b[0;34m:\u001b[0m\u001b[0;34m\u001b[0m\u001b[0;34m\u001b[0m\u001b[0m\n\u001b[0;32m----> 3\u001b[0;31m   \u001b[0mx\u001b[0m\u001b[0;34m=\u001b[0m\u001b[0mx\u001b[0m\u001b[0;34m*\u001b[0m\u001b[0;36m2\u001b[0m\u001b[0;34m\u001b[0m\u001b[0;34m\u001b[0m\u001b[0m\n\u001b[0m\u001b[1;32m      4\u001b[0m   \u001b[0mprint\u001b[0m\u001b[0;34m(\u001b[0m\u001b[0mx\u001b[0m\u001b[0;34m)\u001b[0m\u001b[0;34m\u001b[0m\u001b[0;34m\u001b[0m\u001b[0m\n\u001b[1;32m      5\u001b[0m \u001b[0mfoo\u001b[0m\u001b[0;34m(\u001b[0m\u001b[0;34m)\u001b[0m\u001b[0;34m\u001b[0m\u001b[0;34m\u001b[0m\u001b[0m\n",
            "\u001b[0;31mUnboundLocalError\u001b[0m: local variable 'x' referenced before assignment"
          ]
        }
      ]
    },
    {
      "cell_type": "markdown",
      "source": [
        ""
      ],
      "metadata": {
        "id": "lkuqaSHFyLeG"
      }
    },
    {
      "cell_type": "markdown",
      "source": [
        "global will give rights to change global varible"
      ],
      "metadata": {
        "id": "zupiTCBxyTfW"
      }
    },
    {
      "cell_type": "code",
      "source": [
        "x=\"preethi\"\n",
        "def foo():\n",
        "  global x\n",
        "  x=x*2\n",
        "  print(x)\n",
        "print(x)\n",
        "foo()\n",
        "print(x)"
      ],
      "metadata": {
        "colab": {
          "base_uri": "https://localhost:8080/"
        },
        "id": "8AvDASpvyVWH",
        "outputId": "cc3493f7-a99b-470d-a5c1-ba223808e2d9"
      },
      "execution_count": null,
      "outputs": [
        {
          "output_type": "stream",
          "name": "stdout",
          "text": [
            "preethi\n",
            "preethipreethi\n",
            "preethipreethi\n"
          ]
        }
      ]
    }
  ]
}