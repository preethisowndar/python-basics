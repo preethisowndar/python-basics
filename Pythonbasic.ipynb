{
  "nbformat": 4,
  "nbformat_minor": 0,
  "metadata": {
    "colab": {
      "name": "Pythonbasic.ipynb",
      "provenance": [],
      "authorship_tag": "ABX9TyN/eYtskqYPB8NMfGuG8yMy",
      "include_colab_link": true
    },
    "kernelspec": {
      "name": "python3",
      "display_name": "Python 3"
    },
    "language_info": {
      "name": "python"
    }
  },
  "cells": [
    {
      "cell_type": "markdown",
      "metadata": {
        "id": "view-in-github",
        "colab_type": "text"
      },
      "source": [
        "<a href=\"https://colab.research.google.com/github/preethisowndar/python-basics/blob/main/Pythonbasic.ipynb\" target=\"_parent\"><img src=\"https://colab.research.google.com/assets/colab-badge.svg\" alt=\"Open In Colab\"/></a>"
      ]
    },
    {
      "cell_type": "code",
      "execution_count": 77,
      "metadata": {
        "id": "UkLr6baUrekt",
        "colab": {
          "base_uri": "https://localhost:8080/"
        },
        "outputId": "3b484f52-b67c-4245-d109-35662a194620"
      },
      "outputs": [
        {
          "output_type": "stream",
          "name": "stdout",
          "text": [
            "<class 'complex'>\n",
            "(1+5j) False\n"
          ]
        }
      ],
      "source": [
        "A=5.0j+1\n",
        "print(type(A))\n",
        "print(A,isinstance(A,float))"
      ]
    },
    {
      "cell_type": "markdown",
      "source": [
        ""
      ],
      "metadata": {
        "id": "mRYdcfmdwbB1"
      }
    },
    {
      "cell_type": "code",
      "source": [
        "print(type(2))"
      ],
      "metadata": {
        "colab": {
          "base_uri": "https://localhost:8080/"
        },
        "id": "cJ3E_zWeswNG",
        "outputId": "ed515d95-1a3e-44de-f321-fcab96b96ca8"
      },
      "execution_count": null,
      "outputs": [
        {
          "output_type": "stream",
          "name": "stdout",
          "text": [
            "<class 'int'>\n"
          ]
        }
      ]
    },
    {
      "cell_type": "code",
      "source": [
        "#list\n",
        "a=[5,10,15,20,25,30,35,40,]\n",
        "print(a)\n",
        "print(a[0:3])\n",
        "print(a[:])\n",
        "print(a[1:])\n",
        "\n",
        "print(a[:-1])\n",
        "print(len(a))\n",
        "print(a[::])\n",
        "#reverse \n",
        "print(a[::-1])\n",
        "B=[[1,2],[3,4],[5,6,7],[7,8],[9,11]]\n",
        "print(B[2])\n",
        "print(B[2][2])\n",
        "print(B[2][::-1])\n",
        "#print([::-1])>>>>error\n",
        "a[3]=3333\n",
        "print(a)"
      ],
      "metadata": {
        "colab": {
          "base_uri": "https://localhost:8080/"
        },
        "id": "AaDVsi03s7D7",
        "outputId": "d7e4a556-d773-40f9-9b80-f3cf96048136"
      },
      "execution_count": null,
      "outputs": [
        {
          "output_type": "stream",
          "name": "stdout",
          "text": [
            "[5, 10, 15, 20, 25, 30, 35, 40]\n",
            "[5, 10, 15]\n",
            "[5, 10, 15, 20, 25, 30, 35, 40]\n",
            "[10, 15, 20, 25, 30, 35, 40]\n",
            "[5, 10, 15, 20, 25, 30, 35]\n",
            "8\n",
            "[5, 10, 15, 20, 25, 30, 35, 40]\n",
            "[40, 35, 30, 25, 20, 15, 10, 5]\n",
            "[5, 6, 7]\n",
            "7\n",
            "[7, 6, 5]\n",
            "[5, 10, 15, 3333, 25, 30, 35, 40]\n"
          ]
        }
      ]
    },
    {
      "cell_type": "markdown",
      "source": [
        "List methods"
      ],
      "metadata": {
        "id": "KcPhDXSS5892"
      }
    },
    {
      "cell_type": "code",
      "source": [
        ""
      ],
      "metadata": {
        "id": "u17N6SFM55be"
      },
      "execution_count": null,
      "outputs": []
    },
    {
      "cell_type": "markdown",
      "source": [
        ""
      ],
      "metadata": {
        "id": "Cin-TmB706NG"
      }
    },
    {
      "cell_type": "code",
      "source": [
        "List=[]\n",
        "List.append(input(\"what's your name?\"))\n",
        "List.append(input(\"what's is your age?\"))\n",
        "List.append(input(\"where are you from?\"))\n",
        "List.append(input(\"what is your qualification?\"))\n",
        "print(List)"
      ],
      "metadata": {
        "colab": {
          "base_uri": "https://localhost:8080/"
        },
        "id": "wJssEVgu1DkN",
        "outputId": "18a8296b-73ef-49ac-8c88-329a34bc585f"
      },
      "execution_count": null,
      "outputs": [
        {
          "output_type": "stream",
          "name": "stdout",
          "text": [
            "what's your name?Preethi \n",
            "what's is your age?27\n",
            "where are you from?Namakkal \n",
            "what is your qualification?BE\n",
            "['Preethi ', '27', 'Namakkal ', 'BE']\n"
          ]
        }
      ]
    },
    {
      "cell_type": "code",
      "source": [
        "List.insert(2,input(\"current location\"))\n",
        "List"
      ],
      "metadata": {
        "colab": {
          "base_uri": "https://localhost:8080/"
        },
        "id": "Ewa-rLh22TkQ",
        "outputId": "51baa282-75e1-446d-b078-640859830f92"
      },
      "execution_count": null,
      "outputs": [
        {
          "name": "stdout",
          "output_type": "stream",
          "text": [
            "current locationThirukazhukundram \n"
          ]
        },
        {
          "output_type": "execute_result",
          "data": {
            "text/plain": [
              "[[1, 2, 3], 4, 'Thirukazhukundram ', 5, 6, 7]"
            ]
          },
          "metadata": {},
          "execution_count": 38
        }
      ]
    },
    {
      "cell_type": "code",
      "source": [
        "List.append([1,2,3])\n",
        "List\n",
        "List.extend([4,5,6,7])\n",
        "List"
      ],
      "metadata": {
        "colab": {
          "base_uri": "https://localhost:8080/"
        },
        "id": "m05QCGH43N3F",
        "outputId": "314416cf-ebbe-45bd-c88e-ac1bd7302682"
      },
      "execution_count": null,
      "outputs": [
        {
          "output_type": "execute_result",
          "data": {
            "text/plain": [
              "[[1, 2, 3], 4, 5, 6, 7]"
            ]
          },
          "metadata": {},
          "execution_count": 53
        }
      ]
    },
    {
      "cell_type": "code",
      "source": [
        "List.count(4)"
      ],
      "metadata": {
        "colab": {
          "base_uri": "https://localhost:8080/"
        },
        "id": "XZKycHZm4bvp",
        "outputId": "7291c619-f13b-43ad-958d-9623073fec5f"
      },
      "execution_count": null,
      "outputs": [
        {
          "output_type": "execute_result",
          "data": {
            "text/plain": [
              "1"
            ]
          },
          "metadata": {},
          "execution_count": 54
        }
      ]
    },
    {
      "cell_type": "code",
      "source": [
        "\n",
        "L1=List.copy()\n",
        "List.clear()"
      ],
      "metadata": {
        "id": "XGuWF5e94B-I"
      },
      "execution_count": null,
      "outputs": []
    },
    {
      "cell_type": "code",
      "source": [
        "List.index(5)"
      ],
      "metadata": {
        "colab": {
          "base_uri": "https://localhost:8080/"
        },
        "id": "uNIircnb6wdU",
        "outputId": "8cd9ac77-f0a3-4a8b-fec9-dcb05a649b8c"
      },
      "execution_count": null,
      "outputs": [
        {
          "output_type": "execute_result",
          "data": {
            "text/plain": [
              "2"
            ]
          },
          "metadata": {},
          "execution_count": 55
        }
      ]
    },
    {
      "cell_type": "markdown",
      "source": [
        ""
      ],
      "metadata": {
        "id": "1MxYSMDbwXPX"
      }
    },
    {
      "cell_type": "code",
      "source": [
        "List.insert(2,\"x\")\n",
        "List"
      ],
      "metadata": {
        "colab": {
          "base_uri": "https://localhost:8080/"
        },
        "id": "nwLe5aP77kLJ",
        "outputId": "779e50e5-1fc7-4355-ceb1-f7c9a5066c9f"
      },
      "execution_count": 70,
      "outputs": [
        {
          "output_type": "execute_result",
          "data": {
            "text/plain": [
              "[[1, 2, 3], 4, 'x', 7]"
            ]
          },
          "metadata": {},
          "execution_count": 70
        }
      ]
    },
    {
      "cell_type": "code",
      "source": [
        "List.reverse()\n",
        "List"
      ],
      "metadata": {
        "colab": {
          "base_uri": "https://localhost:8080/"
        },
        "id": "wrWbDK9z9PKQ",
        "outputId": "7cf873de-6cc4-469d-ccaa-372e77b360c2"
      },
      "execution_count": 75,
      "outputs": [
        {
          "output_type": "execute_result",
          "data": {
            "text/plain": [
              "[7, 4, [1, 2, 3]]"
            ]
          },
          "metadata": {},
          "execution_count": 75
        }
      ]
    },
    {
      "cell_type": "code",
      "source": [
        "List.pop(2)\n",
        "List"
      ],
      "metadata": {
        "colab": {
          "base_uri": "https://localhost:8080/"
        },
        "id": "Rbf8eonN7-9-",
        "outputId": "43c6c8b2-a6e1-486b-d8d9-2524a60bd20d"
      },
      "execution_count": 71,
      "outputs": [
        {
          "output_type": "execute_result",
          "data": {
            "text/plain": [
              "[[1, 2, 3], 4, 7]"
            ]
          },
          "metadata": {},
          "execution_count": 71
        }
      ]
    },
    {
      "cell_type": "code",
      "source": [
        "List.sort\n",
        "List"
      ],
      "metadata": {
        "colab": {
          "base_uri": "https://localhost:8080/"
        },
        "id": "Z7TDIgIK8qA6",
        "outputId": "0413d2d4-b91a-4dce-e1f4-63e0a5a02b7e"
      },
      "execution_count": 72,
      "outputs": [
        {
          "output_type": "execute_result",
          "data": {
            "text/plain": [
              "[[1, 2, 3], 4, 7]"
            ]
          },
          "metadata": {},
          "execution_count": 72
        }
      ]
    }
  ]
}